{
 "cells": [
  {
   "cell_type": "markdown",
   "metadata": {},
   "source": [
    "# Week 2 handin"
   ]
  },
  {
   "cell_type": "markdown",
   "metadata": {},
   "source": [
    "## Assignment\n",
    "### Exercise 1\n",
    "1. Create a python file with 3 functions:\n",
    "  1. `def print_file_content(file)` that can print content of a csv file to the console\n",
    "  2. `def write_list_to_file(output_file, lst)` that can take a list of tuple and write each element to a new line in file\n",
    "    1. rewrite the function so that it gets an arbitrary number of strings instead of a list\n",
    "  3. `def read_csv(input_file)` that take a csv file and read each row into a list\n",
    "2. Add a functionality so that the file can be called from cli with 2 arguments\n",
    "  1. path to csv file\n",
    "  2. an argument `--file file_name` that if given will write the content to file_name or otherwise will print it to the console.\n",
    "3. Add a --help cli argument to describe how the module is used \n",
    "\n",
    "### Exercise 2\n",
    "Create a module called utils.py with the following 5 functions:\n",
    "\n",
    "```python\n",
    "def get_file_names(folderpath,out=output.txt):\n",
    "    \"\"\" takes a path to a folder and writes all filenames in the folder to a specified output file\"\"\"\n",
    "\n",
    "def get_all_file_names(folderpath,out=output.txt):\n",
    "    \"\"\"takes a path to a folder and write all filenames recursively (files of all sub folders to)\"\"\"\n",
    "\n",
    "def print_line_one(file_names):\n",
    "    \"\"\"takes a list of filenames and print the first line of each\"\"\"\n",
    "\n",
    "def print_emails(file_names):\n",
    "    \"\"\"takes a list of filenames and print each line that contains an email (just look for @)\"\"\"\n",
    "\n",
    "def write_headlines(md_files, out=output.txt):\n",
    "    \"\"\"takes a list of md files and writes all headlines (lines starting with #) to a file\"\"\"\n",
    "\n",
    "```\n",
    "Make sure your module can be called both from cli and imported to another module\n",
    "Create a new module that imports utils.py and test each function."
   ]
  },
  {
   "cell_type": "markdown",
   "metadata": {},
   "source": [
    "## Status\n",
    "Alle exercise er completed"
   ]
  },
  {
   "cell_type": "markdown",
   "metadata": {},
   "source": [
    "## Exercise 1"
   ]
  },
  {
   "cell_type": "markdown",
   "metadata": {},
   "source": [
    "### 1. Create a python file with 3 functions:"
   ]
  },
  {
   "cell_type": "code",
   "execution_count": 36,
   "metadata": {},
   "outputs": [
    {
     "name": "stdout",
     "output_type": "stream",
     "text": [
      "['hej']\n",
      "['med']\n",
      "['dig']\n",
      "['igen']\n",
      "['kære']\n",
      "['ven']\n"
     ]
    }
   ],
   "source": [
    "from Modules import functions as func\n",
    "\n",
    "file = './Files/week2.csv'\n",
    "func.print_file_content(file)"
   ]
  },
  {
   "cell_type": "code",
   "execution_count": 33,
   "metadata": {},
   "outputs": [
    {
     "name": "stdout",
     "output_type": "stream",
     "text": [
      "hej\n",
      "med\n",
      "dig\n"
     ]
    }
   ],
   "source": [
    "from Modules import functions as func\n",
    "\n",
    "file = './Files/week2.txt'\n",
    "\n",
    "my_tuple = (\"hej\", \"med\", \"dig\")\n",
    "\n",
    "func.write_list_to_file(file, my_tuple)"
   ]
  },
  {
   "cell_type": "code",
   "execution_count": 34,
   "metadata": {},
   "outputs": [
    {
     "data": {
      "text/plain": [
       "[['hej'], ['med'], ['dig'], ['igen'], ['kære'], ['ven']]"
      ]
     },
     "execution_count": 34,
     "metadata": {},
     "output_type": "execute_result"
    }
   ],
   "source": [
    "from Modules import functions as func\n",
    "\n",
    "file = './Files/week2.csv'\n",
    "\n",
    "func.read_csv(file)"
   ]
  },
  {
   "cell_type": "markdown",
   "metadata": {},
   "source": [
    "### 2. Add a functionality so that the file can be called from cli with 2 arguments"
   ]
  },
  {
   "cell_type": "markdown",
   "metadata": {},
   "source": [
    "#### A. Path to csv file"
   ]
  },
  {
   "cell_type": "code",
   "execution_count": 16,
   "metadata": {},
   "outputs": [
    {
     "name": "stdout",
     "output_type": "stream",
     "text": [
      "csv path: Files/week2.csv\r\n",
      "file_name: None\r\n"
     ]
    }
   ],
   "source": [
    "!python Modules/functions.py Files/week2.csv "
   ]
  },
  {
   "cell_type": "markdown",
   "metadata": {},
   "source": [
    "##### B. an argument `--file file_name` that if given will write the content to file_name or otherwise will print it to the console."
   ]
  },
  {
   "cell_type": "code",
   "execution_count": 22,
   "metadata": {},
   "outputs": [
    {
     "name": "stdout",
     "output_type": "stream",
     "text": [
      "csv path: Files/week2.csv\r\n",
      "file_name: Files/test.txt\r\n"
     ]
    }
   ],
   "source": [
    "!python Modules/functions.py Files/week2.csv --file Files/test.txt"
   ]
  },
  {
   "cell_type": "markdown",
   "metadata": {},
   "source": [
    "### 3. Add a --help cli argument to describe how the module is used"
   ]
  },
  {
   "cell_type": "code",
   "execution_count": 25,
   "metadata": {},
   "outputs": [
    {
     "name": "stdout",
     "output_type": "stream",
     "text": [
      "usage: functions.py [-h] [-file FILE_NAME] path\r\n",
      "\r\n",
      "A program that reads from csv and write to txt. the path is the location of\r\n",
      "the csv and file_name is the location of the file to write to.\r\n",
      "\r\n",
      "positional arguments:\r\n",
      "  path                  The path to the csv file\r\n",
      "\r\n",
      "optional arguments:\r\n",
      "  -h, --help            show this help message and exit\r\n",
      "  -file FILE_NAME, --file_name FILE_NAME\r\n",
      "                        The file to write to\r\n"
     ]
    }
   ],
   "source": [
    "!python Modules/functions.py --help"
   ]
  },
  {
   "cell_type": "code",
   "execution_count": 39,
   "metadata": {
    "scrolled": true
   },
   "outputs": [
    {
     "name": "stdout",
     "output_type": "stream",
     "text": [
      "csv path: Files/week2.csv\n",
      "file_name: Files/test.txt\n",
      "['hej']\n",
      "Traceback (most recent call last):\n",
      "  File \"Modules/functions.py\", line 44, in <module>\n",
      "    write_list_to_file(args.file_name, read_csv(args.path))\n",
      "  File \"Modules/functions.py\", line 16, in write_list_to_file\n",
      "    f.write(element + \"\\n\")\n",
      "TypeError: can only concatenate list (not \"str\") to list\n"
     ]
    }
   ],
   "source": [
    "!python Modules/functions.py Files/week2.csv --file Files/test.txt\n"
   ]
  },
  {
   "cell_type": "markdown",
   "metadata": {},
   "source": [
    "## Exercise 3"
   ]
  },
  {
   "cell_type": "code",
   "execution_count": null,
   "metadata": {},
   "outputs": [],
   "source": [
    "from Modules import utils as util\n",
    "\n",
    "util.get_file_names('../Modules', 'Files/test.txt')"
   ]
  }
 ],
 "metadata": {
  "kernelspec": {
   "display_name": "Python 3",
   "language": "python",
   "name": "python3"
  }
 },
 "nbformat": 4,
 "nbformat_minor": 4
}
