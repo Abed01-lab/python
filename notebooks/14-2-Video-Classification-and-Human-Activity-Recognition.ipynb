{
 "cells": [
  {
   "cell_type": "markdown",
   "metadata": {},
   "source": [
    "# Video classification (and human activity recognition\n",
    "## Tutorial\n",
    "https://learnopencv.com/introduction-to-video-classification-and-human-activity-recognition/\n"
   ]
  },
  {
   "cell_type": "markdown",
   "metadata": {},
   "source": [
    "# Image classification with CNN\n",
    "\n",
    "## Process\n",
    "From pixels To textures  \n",
    "From textures To Shapes  \n",
    "From Shapes to Objects  \n",
    "\n",
    "#### Or with CNN (Convolutional  Neural Networks)\n",
    "https://developers.google.com/machine-learning/practica/image-classification/convolutional-neural-networks\n"
   ]
  }
 ],
 "metadata": {
  "kernelspec": {
   "display_name": "Python 3",
   "language": "python",
   "name": "python3"
  },
  "language_info": {
   "codemirror_mode": {
    "name": "ipython",
    "version": 3
   },
   "file_extension": ".py",
   "mimetype": "text/x-python",
   "name": "python",
   "nbconvert_exporter": "python",
   "pygments_lexer": "ipython3",
   "version": "3.7.6"
  }
 },
 "nbformat": 4,
 "nbformat_minor": 4
}
