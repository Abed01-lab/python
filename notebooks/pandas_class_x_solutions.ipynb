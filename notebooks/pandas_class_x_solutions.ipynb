{
 "cells": [
  {
   "cell_type": "markdown",
   "metadata": {},
   "source": [
    "## Pandas class exercises"
   ]
  },
  {
   "cell_type": "markdown",
   "metadata": {},
   "source": [
    "### 1.1 wrap the data above in a pandas DataFrame \n",
    "in a way that printing the dataframe and its index and column attributes gives this result: (Hint: print(df);print(df.index);print(df.columns): "
   ]
  },
  {
   "cell_type": "code",
   "execution_count": 2,
   "metadata": {},
   "outputs": [
    {
     "name": "stdout",
     "output_type": "stream",
     "text": [
      "<class 'numpy.ndarray'>\n",
      "first data cell <class 'numpy.str_'>\n",
      "nd array data type: <U4\n",
      "     Col1 Col2 col3\n",
      "Row1    1    2    3\n",
      "Row2    4    5    6\n",
      "Row3    7    8    9\n"
     ]
    }
   ],
   "source": [
    "import numpy as np\n",
    "import pandas as pd\n",
    "data = np.array([['','Col1','Col2','col3'],\n",
    "                ['Row1',1,2,3],\n",
    "                ['Row2',4,5,6],\n",
    "                ['Row3',7,8,9]])\n",
    "print(type(data))\n",
    "print('first data cell',type(data[1,1]))\n",
    "print('nd array data type:',data.dtype) # <U4 a unicode string of 4 characters\n",
    "df = pd.DataFrame(data=data[1:,1:],\n",
    "                  index=data[1:,0],\n",
    "                  columns=data[0,1:])\n",
    "print(df)"
   ]
  },
  {
   "cell_type": "markdown",
   "metadata": {},
   "source": [
    "### 1.2 Make slices of data:\n",
    "   1. second column using column name\n",
    "   2. third column using column index (.iloc[])\n",
    "   3. slice element at third row of second column (use .iloc())"
   ]
  },
  {
   "cell_type": "code",
   "execution_count": 3,
   "metadata": {},
   "outputs": [
    {
     "name": "stdout",
     "output_type": "stream",
     "text": [
      "1:\n",
      " Row1    2\n",
      "Row2    5\n",
      "Row3    8\n",
      "Name: Col2, dtype: object\n",
      "2:\n",
      " Row1    3\n",
      "Row2    6\n",
      "Row3    9\n",
      "Name: col3, dtype: object\n",
      "3:\n",
      " 8\n"
     ]
    }
   ],
   "source": [
    "# 1\n",
    "print('1:\\n',df['Col2'])\n",
    "# 2\n",
    "print('2:\\n',df.iloc[:,2])\n",
    "# 3\n",
    "print('3:\\n',df.iloc[2,1]) # third row, second column"
   ]
  },
  {
   "cell_type": "markdown",
   "metadata": {},
   "source": [
    "## Class ex 2 Pandas Series: CO2 emissions"
   ]
  },
  {
   "cell_type": "code",
   "execution_count": 4,
   "metadata": {},
   "outputs": [
    {
     "data": {
      "text/plain": [
       "pandas.core.series.Series"
      ]
     },
     "execution_count": 4,
     "metadata": {},
     "output_type": "execute_result"
    }
   ],
   "source": [
    "# 1: Create a Pandas Series with emission data from 2014 for each country or region\n",
    "data = pd.read_csv('../../../data/API_EN.ATM.CO2E.KT_DS2_en_csv_v2_887574.csv', skiprows=4)\n",
    "#print(data)\n",
    "data = data.set_index('Country Name')\n",
    "#print(data)\n",
    "type(data['2014'])"
   ]
  },
  {
   "cell_type": "code",
   "execution_count": 5,
   "metadata": {},
   "outputs": [
    {
     "data": {
      "text/plain": [
       "Country Name\n",
       "World                        3.613828e+07\n",
       "IDA & IBRD total             2.158385e+07\n",
       "Low & middle income          2.121377e+07\n",
       "Middle income                2.101174e+07\n",
       "IBRD only                    2.078336e+07\n",
       "Upper middle income          1.682714e+07\n",
       "Late-demographic dividend    1.508966e+07\n",
       "East Asia & Pacific          1.427211e+07\n",
       "High income                  1.293972e+07\n",
       "OECD members                 1.215111e+07\n",
       "Name: 2014, dtype: float64"
      ]
     },
     "execution_count": 5,
     "metadata": {},
     "output_type": "execute_result"
    }
   ],
   "source": [
    "# 2: Find the 10 Countries/Regions with the highest emissions in 2014 and show emission numbers (reverse sorted)\n",
    "sorted_2014 = data['2014'].sort_values(ascending=False)\n",
    "sorted_2014[:10]"
   ]
  },
  {
   "cell_type": "code",
   "execution_count": 6,
   "metadata": {
    "scrolled": true
   },
   "outputs": [
    {
     "name": "stdout",
     "output_type": "stream",
     "text": [
      "['AFG', 'ALB', 'DZA', 'ASM']\n"
     ]
    },
    {
     "data": {
      "text/plain": [
       "Country Name\n",
       "China                 1.029193e+07\n",
       "United States         5.254279e+06\n",
       "India                 2.238377e+06\n",
       "Russian Federation    1.705346e+06\n",
       "Japan                 1.214048e+06\n",
       "Germany               7.198834e+05\n",
       "Iran, Islamic Rep.    6.494807e+05\n",
       "Saudi Arabia          6.010470e+05\n",
       "Korea, Rep.           5.871564e+05\n",
       "Canada                5.371935e+05\n",
       "Name: 2014, dtype: float64"
      ]
     },
     "execution_count": 6,
     "metadata": {},
     "output_type": "execute_result"
    }
   ],
   "source": [
    "# remove regions and aggregations\n",
    "countries = pd.read_csv('../../../data/country_codes.csv', sep='\\t', header=None)\n",
    "alpha3 = countries[2].str.strip()\n",
    "alpha3 = list(alpha3)\n",
    "print(alpha3[:4])\n",
    "filtered_data = data[data['Country Code'].isin(alpha3)]\n",
    "filtered_data['2014'].sort_values(ascending=False)[:10]"
   ]
  },
  {
   "cell_type": "code",
   "execution_count": 7,
   "metadata": {},
   "outputs": [
    {
     "data": {
      "text/plain": [
       "<matplotlib.legend.Legend at 0x7f35fd1d0910>"
      ]
     },
     "execution_count": 7,
     "metadata": {},
     "output_type": "execute_result"
    },
    {
     "data": {
      "image/png": "[encoded data removed]",
      "text/plain": [
       "<Figure size 432x288 with 1 Axes>"
      ]
     },
     "metadata": {
      "needs_background": "light"
     },
     "output_type": "display_data"
    }
   ],
   "source": [
    "# Plot the emissions of China and USA over time respectively\n",
    "import matplotlib.pyplot as plt\n",
    "china = data.loc['China'][3:]\n",
    "usa = data.loc['United States'][3:]\n",
    "plt.plot(china.index, china, label='China')\n",
    "plt.plot(usa.index, usa, label='USA')\n",
    "plt.legend()"
   ]
  },
  {
   "cell_type": "markdown",
   "metadata": {},
   "source": [
    "## 03 Exercise pandas dataframe\n",
    "\n",
    "- Using the dataframe in the above cell find:\n",
    "  1. Mean, Min, Max values for all 4 columns\n",
    "  2. The 2 dates with the largest and smallest sum (by column)\n",
    "  3. All A's and B's that are both positive"
   ]
  },
  {
   "cell_type": "code",
   "execution_count": 19,
   "metadata": {},
   "outputs": [
    {
     "name": "stdout",
     "output_type": "stream",
     "text": [
      "                   A         B         C         D\n",
      "2020-06-02 -0.045701 -0.708604 -1.313964 -1.060453\n",
      "2020-06-03 -0.681167  0.362291  0.047233 -0.093536\n",
      "2020-06-04 -0.218327  1.064815 -0.524518 -0.319508\n",
      "2020-06-05  1.213492  0.524042 -0.271572 -0.345053\n",
      "2020-06-06 -0.254965 -1.860359 -0.734746 -1.618253\n",
      "2020-06-07 -0.124426 -0.819485 -0.094189  0.248733\n"
     ]
    },
    {
     "data": {
      "text/html": [
       "<div>\n",
       "<style scoped>\n",
       "    .dataframe tbody tr th:only-of-type {\n",
       "        vertical-align: middle;\n",
       "    }\n",
       "\n",
       "    .dataframe tbody tr th {\n",
       "        vertical-align: top;\n",
       "    }\n",
       "\n",
       "    .dataframe thead th {\n",
       "        text-align: right;\n",
       "    }\n",
       "</style>\n",
       "<table border=\"1\" class=\"dataframe\">\n",
       "  <thead>\n",
       "    <tr style=\"text-align: right;\">\n",
       "      <th></th>\n",
       "      <th>A</th>\n",
       "      <th>B</th>\n",
       "      <th>C</th>\n",
       "      <th>D</th>\n",
       "    </tr>\n",
       "  </thead>\n",
       "  <tbody>\n",
       "    <tr>\n",
       "      <th>count</th>\n",
       "      <td>6.000000</td>\n",
       "      <td>6.000000</td>\n",
       "      <td>6.000000</td>\n",
       "      <td>6.000000</td>\n",
       "    </tr>\n",
       "    <tr>\n",
       "      <th>mean</th>\n",
       "      <td>-0.018516</td>\n",
       "      <td>-0.239550</td>\n",
       "      <td>-0.481959</td>\n",
       "      <td>-0.531345</td>\n",
       "    </tr>\n",
       "    <tr>\n",
       "      <th>std</th>\n",
       "      <td>0.642610</td>\n",
       "      <td>1.079816</td>\n",
       "      <td>0.496511</td>\n",
       "      <td>0.684266</td>\n",
       "    </tr>\n",
       "    <tr>\n",
       "      <th>min</th>\n",
       "      <td>-0.681167</td>\n",
       "      <td>-1.860359</td>\n",
       "      <td>-1.313964</td>\n",
       "      <td>-1.618253</td>\n",
       "    </tr>\n",
       "    <tr>\n",
       "      <th>25%</th>\n",
       "      <td>-0.245806</td>\n",
       "      <td>-0.791764</td>\n",
       "      <td>-0.682189</td>\n",
       "      <td>-0.881603</td>\n",
       "    </tr>\n",
       "    <tr>\n",
       "      <th>50%</th>\n",
       "      <td>-0.171377</td>\n",
       "      <td>-0.173156</td>\n",
       "      <td>-0.398045</td>\n",
       "      <td>-0.332281</td>\n",
       "    </tr>\n",
       "    <tr>\n",
       "      <th>75%</th>\n",
       "      <td>-0.065383</td>\n",
       "      <td>0.483604</td>\n",
       "      <td>-0.138534</td>\n",
       "      <td>-0.150029</td>\n",
       "    </tr>\n",
       "    <tr>\n",
       "      <th>max</th>\n",
       "      <td>1.213492</td>\n",
       "      <td>1.064815</td>\n",
       "      <td>0.047233</td>\n",
       "      <td>0.248733</td>\n",
       "    </tr>\n",
       "  </tbody>\n",
       "</table>\n",
       "</div>"
      ],
      "text/plain": [
       "              A         B         C         D\n",
       "count  6.000000  6.000000  6.000000  6.000000\n",
       "mean  -0.018516 -0.239550 -0.481959 -0.531345\n",
       "std    0.642610  1.079816  0.496511  0.684266\n",
       "min   -0.681167 -1.860359 -1.313964 -1.618253\n",
       "25%   -0.245806 -0.791764 -0.682189 -0.881603\n",
       "50%   -0.171377 -0.173156 -0.398045 -0.332281\n",
       "75%   -0.065383  0.483604 -0.138534 -0.150029\n",
       "max    1.213492  1.064815  0.047233  0.248733"
      ]
     },
     "execution_count": 19,
     "metadata": {},
     "output_type": "execute_result"
    }
   ],
   "source": [
    "# 1\n",
    "dates = pd.date_range('20200602', periods=6) # create 6 dates from september 2nd, 2020.\n",
    "df = pd.DataFrame(np.random.randn(6,4), index=dates, columns=list('ABCD')) # use np.random.randn to generate a dataframe of 6 by 4 random numbers\n",
    "print(df)\n",
    "df.describe()"
   ]
  },
  {
   "cell_type": "code",
   "execution_count": 20,
   "metadata": {},
   "outputs": [
    {
     "data": {
      "text/plain": [
       "2020-06-06   -4.468323\n",
       "2020-06-02   -3.128722\n",
       "2020-06-07   -0.789367\n",
       "2020-06-03   -0.365179\n",
       "2020-06-04    0.002461\n",
       "2020-06-05    1.120909\n",
       "dtype: float64"
      ]
     },
     "execution_count": 20,
     "metadata": {},
     "output_type": "execute_result"
    }
   ],
   "source": [
    "# 2\n",
    "summed_horizontal_sorted = df.sum(axis=1).sort_values()\n",
    "summed_horizontal_sorted"
   ]
  },
  {
   "cell_type": "code",
   "execution_count": 21,
   "metadata": {},
   "outputs": [
    {
     "name": "stdout",
     "output_type": "stream",
     "text": [
      "smallest sum was by date: 2020-06-06 00:00:00 and largest by 2020-06-05 00:00:00\n"
     ]
    }
   ],
   "source": [
    "smallest = summed_horizontal_sorted.index[0]\n",
    "largest = summed_horizontal_sorted.index[-1]\n",
    "print(f'smallest sum was by date: {smallest} and largest by {largest}')"
   ]
  },
  {
   "cell_type": "code",
   "execution_count": 30,
   "metadata": {
    "scrolled": true
   },
   "outputs": [
    {
     "data": {
      "text/html": [
       "<div>\n",
       "<style scoped>\n",
       "    .dataframe tbody tr th:only-of-type {\n",
       "        vertical-align: middle;\n",
       "    }\n",
       "\n",
       "    .dataframe tbody tr th {\n",
       "        vertical-align: top;\n",
       "    }\n",
       "\n",
       "    .dataframe thead th {\n",
       "        text-align: right;\n",
       "    }\n",
       "</style>\n",
       "<table border=\"1\" class=\"dataframe\">\n",
       "  <thead>\n",
       "    <tr style=\"text-align: right;\">\n",
       "      <th></th>\n",
       "      <th>A</th>\n",
       "      <th>B</th>\n",
       "    </tr>\n",
       "  </thead>\n",
       "  <tbody>\n",
       "    <tr>\n",
       "      <th>2020-06-02</th>\n",
       "      <td>-0.045701</td>\n",
       "      <td>-0.708604</td>\n",
       "    </tr>\n",
       "    <tr>\n",
       "      <th>2020-06-03</th>\n",
       "      <td>-0.681167</td>\n",
       "      <td>0.362291</td>\n",
       "    </tr>\n",
       "    <tr>\n",
       "      <th>2020-06-04</th>\n",
       "      <td>-0.218327</td>\n",
       "      <td>1.064815</td>\n",
       "    </tr>\n",
       "    <tr>\n",
       "      <th>2020-06-05</th>\n",
       "      <td>1.213492</td>\n",
       "      <td>0.524042</td>\n",
       "    </tr>\n",
       "    <tr>\n",
       "      <th>2020-06-06</th>\n",
       "      <td>-0.254965</td>\n",
       "      <td>-1.860359</td>\n",
       "    </tr>\n",
       "    <tr>\n",
       "      <th>2020-06-07</th>\n",
       "      <td>-0.124426</td>\n",
       "      <td>-0.819485</td>\n",
       "    </tr>\n",
       "  </tbody>\n",
       "</table>\n",
       "</div>"
      ],
      "text/plain": [
       "                   A         B\n",
       "2020-06-02 -0.045701 -0.708604\n",
       "2020-06-03 -0.681167  0.362291\n",
       "2020-06-04 -0.218327  1.064815\n",
       "2020-06-05  1.213492  0.524042\n",
       "2020-06-06 -0.254965 -1.860359\n",
       "2020-06-07 -0.124426 -0.819485"
      ]
     },
     "execution_count": 30,
     "metadata": {},
     "output_type": "execute_result"
    }
   ],
   "source": [
    "# 3 all As and Bs that are positive\n",
    "as_and_bs = df[['A','B']]\n",
    "as_and_bs"
   ]
  },
  {
   "cell_type": "code",
   "execution_count": 44,
   "metadata": {
    "scrolled": true
   },
   "outputs": [
    {
     "name": "stdout",
     "output_type": "stream",
     "text": [
      "                   A         B\n",
      "2020-06-02       NaN       NaN\n",
      "2020-06-03       NaN  0.362291\n",
      "2020-06-04       NaN  1.064815\n",
      "2020-06-05  1.213492  0.524042\n",
      "2020-06-06       NaN       NaN\n",
      "2020-06-07       NaN       NaN \n",
      "\n",
      "                A      B\n",
      "2020-06-02  False  False\n",
      "2020-06-03  False   True\n",
      "2020-06-04  False   True\n",
      "2020-06-05   True   True\n",
      "2020-06-06  False  False\n",
      "2020-06-07  False  False \n",
      "\n",
      "2020-06-02    False\n",
      "2020-06-03     True\n",
      "2020-06-04     True\n",
      "2020-06-05     True\n",
      "2020-06-06    False\n",
      "2020-06-07    False\n",
      "Freq: D, dtype: bool \n",
      "\n",
      "2020-06-02    False\n",
      "2020-06-03    False\n",
      "2020-06-04    False\n",
      "2020-06-05     True\n",
      "2020-06-06    False\n",
      "2020-06-07    False\n",
      "Freq: D, dtype: bool \n",
      "\n",
      "ANY:                     A         B\n",
      "2020-06-03 -0.681167  0.362291\n",
      "2020-06-04 -0.218327  1.064815\n",
      "2020-06-05  1.213492  0.524042 \n",
      "\n",
      "ALL:                     A         B\n",
      "2020-06-05  1.213492  0.524042 \n",
      "\n"
     ]
    }
   ],
   "source": [
    "filter = as_and_bs[as_and_bs > 0] #write NaN in all cells that are not validated by the condition\n",
    "print(filter,'\\n')\n",
    "# NaN is evaluated to True (since it is non empty) therefore we change NaN to False\n",
    "filter_na = filter.notna()\n",
    "print(filter_na,'\\n')\n",
    "bool_filter_any = filter_na.any(axis=1)\n",
    "print(bool_filter_any,'\\n')\n",
    "bool_filter_all = filter_na.all(axis=1)\n",
    "print(bool_filter_all,'\\n')\n",
    "print('ANY: ',as_and_bs[bool_filter_any],'\\n')\n",
    "print('ALL: ',as_and_bs[bool_filter_all],'\\n')"
   ]
  },
  {
   "cell_type": "markdown",
   "metadata": {},
   "source": [
    "## 04 Class Exercise\n",
    "#### Find military expenditure pr. capita.\n",
    "\n",
    "Go here and get data as csv: [worldbank military expanditure](https://databank.worldbank.org/reports.aspx?source=2&series=MS.MIL.XPND.CD&country=#). Download it manually, unzip the csv and clean up empty rows.  \n",
    "1. Use .replace() method on the dataframe to remove all data containing '..'\n",
    "2. Set index of the dataframe to be 'Country Name'\n",
    "3. Slice the 2019 column data to get a data series.\n",
    "4. Make data numeric (pd.to_numeric(data_series))\n",
    "\n",
    "1. For 2019 find the 10 countries with the highest military expenditure in USD\n",
    "2. For 2019 find the 10 countries with the highest military expenditure per capita. Find the population data here: [worldbank](https://databank.worldbank.org/source/world-development-indicators/preview/on#)(use series='Population,Total' and time='2019' and Country= countries (217)) **or** use [copy paste with this date into excel](https://www.worldometers.info/world-population/population-by-country/)\n",
    "  - (Hint: use pd.merge() to merge the mil_exp dataframe with the population dataframe on 2 columns (country_code)\n",
    "3. For 2019 find the 3 countries with the highest per capita military expenditure in the middle east\n",
    "  - [countries list with iso code](middleeast_countries.csv) or use:   \n",
    "  `list_of_middle_eastern = ['YEM','ARE','TUR','SYR','SAU','QAT','PSE','OMN','LBN','KWT','JOR','ISR','IRQ','IRN','EGY','CYP','BHR']\n",
    "`"
   ]
  },
  {
   "cell_type": "code",
   "execution_count": 93,
   "metadata": {},
   "outputs": [
    {
     "name": "stdout",
     "output_type": "stream",
     "text": [
      "215\n",
      "215\n"
     ]
    },
    {
     "data": {
      "text/plain": [
       "Country Name\n",
       "United States         7.317514e+11\n",
       "China                 2.610819e+11\n",
       "India                 7.112498e+10\n",
       "Russian Federation    6.510257e+10\n",
       "Saudi Arabia          6.186667e+10\n",
       "French Polynesia      5.011893e+10\n",
       "France                5.011893e+10\n",
       "Germany               4.927676e+10\n",
       "United Kingdom        4.865038e+10\n",
       "Japan                 4.760902e+10\n",
       "Name: 2019 [YR2019], dtype: float64"
      ]
     },
     "execution_count": 93,
     "metadata": {},
     "output_type": "execute_result"
    }
   ],
   "source": [
    "# 1-5 First downloaded zip file manually, unzipped and removed empty rows in bottom of file\n",
    "data = pd.read_csv('../../../data/mil_exp.csv')\n",
    "data_only_countries = data[data['Country Code'].isin(alpha3)] \n",
    "data = data_only_countries.set_index(data_only_countries['Country Name'])\n",
    "data2019 = data['2019 [YR2019]'].str.strip() # remove white space in order to find data cells with '..' inside\n",
    "print(len(list(data2019)))\n",
    "data2019 = data2019.replace('..',None)\n",
    "print(len(list(data2019)))\n",
    "data2019 = pd.to_numeric(data2019)\n",
    "data2019.sort_values(ascending=False)[:10]"
   ]
  },
  {
   "cell_type": "code",
   "execution_count": 115,
   "metadata": {},
   "outputs": [
    {
     "data": {
      "text/html": [
       "<div>\n",
       "<style scoped>\n",
       "    .dataframe tbody tr th:only-of-type {\n",
       "        vertical-align: middle;\n",
       "    }\n",
       "\n",
       "    .dataframe tbody tr th {\n",
       "        vertical-align: top;\n",
       "    }\n",
       "\n",
       "    .dataframe thead th {\n",
       "        text-align: right;\n",
       "    }\n",
       "</style>\n",
       "<table border=\"1\" class=\"dataframe\">\n",
       "  <thead>\n",
       "    <tr style=\"text-align: right;\">\n",
       "      <th></th>\n",
       "      <th>Country Code</th>\n",
       "      <th>population</th>\n",
       "    </tr>\n",
       "  </thead>\n",
       "  <tbody>\n",
       "    <tr>\n",
       "      <th>0</th>\n",
       "      <td>AFG</td>\n",
       "      <td>38041754</td>\n",
       "    </tr>\n",
       "    <tr>\n",
       "      <th>1</th>\n",
       "      <td>ALB</td>\n",
       "      <td>2854191</td>\n",
       "    </tr>\n",
       "    <tr>\n",
       "      <th>2</th>\n",
       "      <td>DZA</td>\n",
       "      <td>43053054</td>\n",
       "    </tr>\n",
       "    <tr>\n",
       "      <th>3</th>\n",
       "      <td>ASM</td>\n",
       "      <td>55312</td>\n",
       "    </tr>\n",
       "    <tr>\n",
       "      <th>4</th>\n",
       "      <td>AND</td>\n",
       "      <td>77142</td>\n",
       "    </tr>\n",
       "    <tr>\n",
       "      <th>...</th>\n",
       "      <td>...</td>\n",
       "      <td>...</td>\n",
       "    </tr>\n",
       "    <tr>\n",
       "      <th>217</th>\n",
       "      <td>NaN</td>\n",
       "      <td>NaN</td>\n",
       "    </tr>\n",
       "    <tr>\n",
       "      <th>218</th>\n",
       "      <td>NaN</td>\n",
       "      <td>NaN</td>\n",
       "    </tr>\n",
       "    <tr>\n",
       "      <th>219</th>\n",
       "      <td>NaN</td>\n",
       "      <td>NaN</td>\n",
       "    </tr>\n",
       "    <tr>\n",
       "      <th>220</th>\n",
       "      <td>NaN</td>\n",
       "      <td>NaN</td>\n",
       "    </tr>\n",
       "    <tr>\n",
       "      <th>221</th>\n",
       "      <td>NaN</td>\n",
       "      <td>NaN</td>\n",
       "    </tr>\n",
       "  </tbody>\n",
       "</table>\n",
       "<p>222 rows × 2 columns</p>\n",
       "</div>"
      ],
      "text/plain": [
       "    Country Code population\n",
       "0            AFG   38041754\n",
       "1            ALB    2854191\n",
       "2            DZA   43053054\n",
       "3            ASM      55312\n",
       "4            AND      77142\n",
       "..           ...        ...\n",
       "217          NaN        NaN\n",
       "218          NaN        NaN\n",
       "219          NaN        NaN\n",
       "220          NaN        NaN\n",
       "221          NaN        NaN\n",
       "\n",
       "[222 rows x 2 columns]"
      ]
     },
     "execution_count": 115,
     "metadata": {},
     "output_type": "execute_result"
    }
   ],
   "source": [
    "# 6\n",
    "population = pd.read_csv('../../../data/population_data.csv')[['Country Code','2019 [YR2019]']]\n",
    "#population.columns = population.columns.str.strip()\n",
    "#population.columns = population.columns.str.replace('2019 [YR2019]','population')\n",
    "population.columns = ['Country Code','Population']\n",
    "population."
   ]
  },
  {
   "cell_type": "code",
   "execution_count": 123,
   "metadata": {},
   "outputs": [
    {
     "data": {
      "text/html": [
       "<div>\n",
       "<style scoped>\n",
       "    .dataframe tbody tr th:only-of-type {\n",
       "        vertical-align: middle;\n",
       "    }\n",
       "\n",
       "    .dataframe tbody tr th {\n",
       "        vertical-align: top;\n",
       "    }\n",
       "\n",
       "    .dataframe thead th {\n",
       "        text-align: right;\n",
       "    }\n",
       "</style>\n",
       "<table border=\"1\" class=\"dataframe\">\n",
       "  <thead>\n",
       "    <tr style=\"text-align: right;\">\n",
       "      <th></th>\n",
       "      <th>Country Name</th>\n",
       "      <th>Country Code</th>\n",
       "      <th>2019 [YR2019]</th>\n",
       "      <th>population</th>\n",
       "      <th>expenditure pr. capita</th>\n",
       "    </tr>\n",
       "  </thead>\n",
       "  <tbody>\n",
       "    <tr>\n",
       "      <th>199</th>\n",
       "      <td>Tuvalu</td>\n",
       "      <td>TUV</td>\n",
       "      <td>..</td>\n",
       "      <td>11646</td>\n",
       "      <td>1.755771e+06</td>\n",
       "    </tr>\n",
       "    <tr>\n",
       "      <th>27</th>\n",
       "      <td>British Virgin Islands</td>\n",
       "      <td>VGB</td>\n",
       "      <td>..</td>\n",
       "      <td>30030</td>\n",
       "      <td>8.973000e+05</td>\n",
       "    </tr>\n",
       "    <tr>\n",
       "      <th>148</th>\n",
       "      <td>Palau</td>\n",
       "      <td>PLW</td>\n",
       "      <td>..</td>\n",
       "      <td>18008</td>\n",
       "      <td>5.695299e+05</td>\n",
       "    </tr>\n",
       "    <tr>\n",
       "      <th>198</th>\n",
       "      <td>Turks and Caicos Islands</td>\n",
       "      <td>TCA</td>\n",
       "      <td>..</td>\n",
       "      <td>38191</td>\n",
       "      <td>5.354065e+05</td>\n",
       "    </tr>\n",
       "    <tr>\n",
       "      <th>36</th>\n",
       "      <td>Cayman Islands</td>\n",
       "      <td>CYM</td>\n",
       "      <td>..</td>\n",
       "      <td>64948</td>\n",
       "      <td>3.417754e+05</td>\n",
       "    </tr>\n",
       "    <tr>\n",
       "      <th>170</th>\n",
       "      <td>Sint Maarten (Dutch part)</td>\n",
       "      <td>SXM</td>\n",
       "      <td>..</td>\n",
       "      <td>40733</td>\n",
       "      <td>2.752345e+05</td>\n",
       "    </tr>\n",
       "    <tr>\n",
       "      <th>3</th>\n",
       "      <td>American Samoa</td>\n",
       "      <td>ASM</td>\n",
       "      <td>..</td>\n",
       "      <td>55312</td>\n",
       "      <td>1.862815e+05</td>\n",
       "    </tr>\n",
       "    <tr>\n",
       "      <th>68</th>\n",
       "      <td>French Polynesia</td>\n",
       "      <td>PYF</td>\n",
       "      <td>..</td>\n",
       "      <td>279287</td>\n",
       "      <td>1.794531e+05</td>\n",
       "    </tr>\n",
       "    <tr>\n",
       "      <th>4</th>\n",
       "      <td>Andorra</td>\n",
       "      <td>AND</td>\n",
       "      <td>..</td>\n",
       "      <td>77142</td>\n",
       "      <td>1.335667e+05</td>\n",
       "    </tr>\n",
       "    <tr>\n",
       "      <th>76</th>\n",
       "      <td>Greenland</td>\n",
       "      <td>GRL</td>\n",
       "      <td>..</td>\n",
       "      <td>56225</td>\n",
       "      <td>9.731548e+04</td>\n",
       "    </tr>\n",
       "  </tbody>\n",
       "</table>\n",
       "</div>"
      ],
      "text/plain": [
       "                  Country Name Country Code 2019 [YR2019] population  \\\n",
       "199                     Tuvalu          TUV            ..      11646   \n",
       "27      British Virgin Islands          VGB            ..      30030   \n",
       "148                      Palau          PLW            ..      18008   \n",
       "198   Turks and Caicos Islands          TCA            ..      38191   \n",
       "36              Cayman Islands          CYM            ..      64948   \n",
       "170  Sint Maarten (Dutch part)          SXM            ..      40733   \n",
       "3               American Samoa          ASM            ..      55312   \n",
       "68            French Polynesia          PYF            ..     279287   \n",
       "4                      Andorra          AND            ..      77142   \n",
       "76                   Greenland          GRL            ..      56225   \n",
       "\n",
       "     expenditure pr. capita  \n",
       "199            1.755771e+06  \n",
       "27             8.973000e+05  \n",
       "148            5.695299e+05  \n",
       "198            5.354065e+05  \n",
       "36             3.417754e+05  \n",
       "170            2.752345e+05  \n",
       "3              1.862815e+05  \n",
       "68             1.794531e+05  \n",
       "4              1.335667e+05  \n",
       "76             9.731548e+04  "
      ]
     },
     "execution_count": 123,
     "metadata": {},
     "output_type": "execute_result"
    }
   ],
   "source": [
    "# 6 fortsat \n",
    "data_merged = pd.merge(data[['Country Name','Country Code', '2019 [YR2019]']], population,on='Country Code')\n",
    "data_cleaned = data_merged.replace('..',None)\n",
    "data_cleaned[['2019 [YR2019]','population']] = data_cleaned[['2019 [YR2019]','population']].apply(pd.to_numeric)\n",
    "# Create a new column with expenditure divided by population\n",
    "data_merged['expenditure pr. capita'] = data_cleaned['2019 [YR2019]']/data_cleaned['population']\n",
    "data_cap_sorted = data_merged.sort_values(by='expenditure pr. capita', ascending=False)\n",
    "data_cap_sorted[:10]"
   ]
  },
  {
   "cell_type": "code",
   "execution_count": 125,
   "metadata": {},
   "outputs": [
    {
     "data": {
      "text/html": [
       "<div>\n",
       "<style scoped>\n",
       "    .dataframe tbody tr th:only-of-type {\n",
       "        vertical-align: middle;\n",
       "    }\n",
       "\n",
       "    .dataframe tbody tr th {\n",
       "        vertical-align: top;\n",
       "    }\n",
       "\n",
       "    .dataframe thead th {\n",
       "        text-align: right;\n",
       "    }\n",
       "</style>\n",
       "<table border=\"1\" class=\"dataframe\">\n",
       "  <thead>\n",
       "    <tr style=\"text-align: right;\">\n",
       "      <th></th>\n",
       "      <th>Country Name</th>\n",
       "      <th>Country Code</th>\n",
       "      <th>2019 [YR2019]</th>\n",
       "      <th>population</th>\n",
       "      <th>expenditure pr. capita</th>\n",
       "    </tr>\n",
       "  </thead>\n",
       "  <tbody>\n",
       "    <tr>\n",
       "      <th>94</th>\n",
       "      <td>Israel</td>\n",
       "      <td>ISR</td>\n",
       "      <td>20464927048.2604</td>\n",
       "      <td>9053300</td>\n",
       "      <td>2260.493637</td>\n",
       "    </tr>\n",
       "    <tr>\n",
       "      <th>104</th>\n",
       "      <td>Kuwait</td>\n",
       "      <td>KWT</td>\n",
       "      <td>7709786184.21053</td>\n",
       "      <td>4207083</td>\n",
       "      <td>1832.572874</td>\n",
       "    </tr>\n",
       "    <tr>\n",
       "      <th>164</th>\n",
       "      <td>Saudi Arabia</td>\n",
       "      <td>SAU</td>\n",
       "      <td>61866666666.6667</td>\n",
       "      <td>34268528</td>\n",
       "      <td>1805.349406</td>\n",
       "    </tr>\n",
       "    <tr>\n",
       "      <th>157</th>\n",
       "      <td>Qatar</td>\n",
       "      <td>QAT</td>\n",
       "      <td>..</td>\n",
       "      <td>2832067</td>\n",
       "      <td>1593.531160</td>\n",
       "    </tr>\n",
       "    <tr>\n",
       "      <th>146</th>\n",
       "      <td>Oman</td>\n",
       "      <td>OMN</td>\n",
       "      <td>6729518855.6567</td>\n",
       "      <td>4974986</td>\n",
       "      <td>1352.670913</td>\n",
       "    </tr>\n",
       "    <tr>\n",
       "      <th>14</th>\n",
       "      <td>Bahrain</td>\n",
       "      <td>BHR</td>\n",
       "      <td>1404787234.04255</td>\n",
       "      <td>1641172</td>\n",
       "      <td>855.965879</td>\n",
       "    </tr>\n",
       "    <tr>\n",
       "      <th>202</th>\n",
       "      <td>United Arab Emirates</td>\n",
       "      <td>ARE</td>\n",
       "      <td>..</td>\n",
       "      <td>9770529</td>\n",
       "      <td>535.173284</td>\n",
       "    </tr>\n",
       "    <tr>\n",
       "      <th>108</th>\n",
       "      <td>Lebanon</td>\n",
       "      <td>LBN</td>\n",
       "      <td>2521246648.01434</td>\n",
       "      <td>6855713</td>\n",
       "      <td>367.758488</td>\n",
       "    </tr>\n",
       "    <tr>\n",
       "      <th>50</th>\n",
       "      <td>Cyprus</td>\n",
       "      <td>CYP</td>\n",
       "      <td>401690550.828482</td>\n",
       "      <td>1198575</td>\n",
       "      <td>335.140105</td>\n",
       "    </tr>\n",
       "    <tr>\n",
       "      <th>187</th>\n",
       "      <td>Syrian Arab Republic</td>\n",
       "      <td>SYR</td>\n",
       "      <td>..</td>\n",
       "      <td>17070135</td>\n",
       "      <td>303.399736</td>\n",
       "    </tr>\n",
       "    <tr>\n",
       "      <th>196</th>\n",
       "      <td>Turkey</td>\n",
       "      <td>TUR</td>\n",
       "      <td>20447711267.6056</td>\n",
       "      <td>83429615</td>\n",
       "      <td>245.089364</td>\n",
       "    </tr>\n",
       "    <tr>\n",
       "      <th>211</th>\n",
       "      <td>West Bank and Gaza</td>\n",
       "      <td>PSE</td>\n",
       "      <td>..</td>\n",
       "      <td>4685306</td>\n",
       "      <td>244.662291</td>\n",
       "    </tr>\n",
       "    <tr>\n",
       "      <th>98</th>\n",
       "      <td>Jordan</td>\n",
       "      <td>JOR</td>\n",
       "      <td>2032112676.05634</td>\n",
       "      <td>10101694</td>\n",
       "      <td>201.165535</td>\n",
       "    </tr>\n",
       "    <tr>\n",
       "      <th>91</th>\n",
       "      <td>Iraq</td>\n",
       "      <td>IRQ</td>\n",
       "      <td>7598829335.74537</td>\n",
       "      <td>39309783</td>\n",
       "      <td>193.306316</td>\n",
       "    </tr>\n",
       "    <tr>\n",
       "      <th>90</th>\n",
       "      <td>Iran, Islamic Rep.</td>\n",
       "      <td>IRN</td>\n",
       "      <td>12623163490.0382</td>\n",
       "      <td>82913906</td>\n",
       "      <td>152.244227</td>\n",
       "    </tr>\n",
       "    <tr>\n",
       "      <th>212</th>\n",
       "      <td>Yemen, Rep.</td>\n",
       "      <td>YEM</td>\n",
       "      <td>..</td>\n",
       "      <td>29161922</td>\n",
       "      <td>39.308716</td>\n",
       "    </tr>\n",
       "    <tr>\n",
       "      <th>57</th>\n",
       "      <td>Egypt, Arab Rep.</td>\n",
       "      <td>EGY</td>\n",
       "      <td>3743671451.54565</td>\n",
       "      <td>100388073</td>\n",
       "      <td>37.291994</td>\n",
       "    </tr>\n",
       "  </tbody>\n",
       "</table>\n",
       "</div>"
      ],
      "text/plain": [
       "             Country Name Country Code     2019 [YR2019] population  \\\n",
       "94                 Israel          ISR  20464927048.2604    9053300   \n",
       "104                Kuwait          KWT  7709786184.21053    4207083   \n",
       "164          Saudi Arabia          SAU  61866666666.6667   34268528   \n",
       "157                 Qatar          QAT                ..    2832067   \n",
       "146                  Oman          OMN   6729518855.6567    4974986   \n",
       "14                Bahrain          BHR  1404787234.04255    1641172   \n",
       "202  United Arab Emirates          ARE                ..    9770529   \n",
       "108               Lebanon          LBN  2521246648.01434    6855713   \n",
       "50                 Cyprus          CYP  401690550.828482    1198575   \n",
       "187  Syrian Arab Republic          SYR                ..   17070135   \n",
       "196                Turkey          TUR  20447711267.6056   83429615   \n",
       "211    West Bank and Gaza          PSE                ..    4685306   \n",
       "98                 Jordan          JOR  2032112676.05634   10101694   \n",
       "91                   Iraq          IRQ  7598829335.74537   39309783   \n",
       "90     Iran, Islamic Rep.          IRN  12623163490.0382   82913906   \n",
       "212           Yemen, Rep.          YEM                ..   29161922   \n",
       "57       Egypt, Arab Rep.          EGY  3743671451.54565  100388073   \n",
       "\n",
       "     expenditure pr. capita  \n",
       "94              2260.493637  \n",
       "104             1832.572874  \n",
       "164             1805.349406  \n",
       "157             1593.531160  \n",
       "146             1352.670913  \n",
       "14               855.965879  \n",
       "202              535.173284  \n",
       "108              367.758488  \n",
       "50               335.140105  \n",
       "187              303.399736  \n",
       "196              245.089364  \n",
       "211              244.662291  \n",
       "98               201.165535  \n",
       "91               193.306316  \n",
       "90               152.244227  \n",
       "212               39.308716  \n",
       "57                37.291994  "
      ]
     },
     "execution_count": 125,
     "metadata": {},
     "output_type": "execute_result"
    }
   ],
   "source": [
    "# 7\n",
    "list_of_middle_eastern = ['YEM','ARE','TUR','SYR','SAU','QAT','PSE','OMN','LBN','KWT','JOR','ISR','IRQ','IRN','EGY','CYP','BHR']\n",
    "middle_e = data_cap_sorted[data_cap_sorted['Country Code'].isin(list_of_middle_eastern)]\n",
    "middle_e"
   ]
  }
 ],
 "metadata": {
  "kernelspec": {
   "display_name": "Python 3",
   "language": "python",
   "name": "python3"
  },
  "language_info": {
   "codemirror_mode": {
    "name": "ipython",
    "version": 3
   },
   "file_extension": ".py",
   "mimetype": "text/x-python",
   "name": "python",
   "nbconvert_exporter": "python",
   "pygments_lexer": "ipython3",
   "version": "3.7.6"
  }
 },
 "nbformat": 4,
 "nbformat_minor": 4
}
